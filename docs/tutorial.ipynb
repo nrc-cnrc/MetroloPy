{
 "cells": [
  {
   "cell_type": "markdown",
   "metadata": {},
   "source": [
    "# MetroloPy\n",
    "\n",
    "tools for dealing with physical quantities:  uncertainty propagation and unit conversion\n",
    "\n",
    "---"
   ]
  },
  {
   "cell_type": "markdown",
   "metadata": {},
   "source": [
    "## Table of Contents\n",
    "\n",
    "* [getting started](#getting-started)\n",
    "* [tutorial](#tutorial)\n",
    "    * [expressing physical quantities](#expressing-physical-quantities)\n",
    "    * [propagating uncertainty](#propagating-uncertainty)\n",
    "    * [Monte-Carlo uncertainty propagation](#Monte-Carlo-uncertainty-propagation)\n",
    "    * [expanded uncertainty](#expanded-uncertainty)\n",
    "    * [an uncertainty budget](#an-uncertainty-budget)\n",
    "    * [units and mathematical operations](#units-and-mathematical-operations)\n",
    "    * [built-in and user defined units](#built-in-and-user-defined-units)\n",
    "    * [physical constants](#physical-constants)\n",
    "    * [curve fitting](#curve-fitting)\n",
    "    * [applying numerical functions to gummys](#applying-numerical-functions-to-gummys)\n",
    "    * [creating correlated gummys](#creating-correlated-gummys)\n",
    "    * [complex numbers with uncertainty](#complex-numbers-with-uncertainty)\n",
    "    * [formatting](#formatting)"
   ]
  },
  {
   "cell_type": "markdown",
   "metadata": {},
   "source": [
    "## getting started\n",
    "\n",
    "MetroloPy is a pure python package and requires Python 3.6 or later and the [SciPy stack](https://www.scipy.org/) (NumPy, SciPy and Pandas).  It looks best in a [Jupyter Notebook](https://jupyter.org/) like the one used to create this tutorial.\n",
    "\n",
    "Install MetroloPy with pip:\n",
    "\n",
    "```\n",
    "$ pip install metrolopy\n",
    "```\n",
    "\n",
    "or with conda from conda-forge:\n",
    "\n",
    "```\n",
    "$ conda install -c conda-forge metrolopy\n",
    "```\n",
    "\n",
    "See the [MetroloPy home page](http://nrc-cnrc.github.io/MetroloPy/) for the full documentation.\n",
    "\n",
    "---\n",
    "\n",
    "\n",
    "## tutorial\n",
    "\n",
    "\n",
    "### expressing physical quantities\n",
    "A gummy object represents a physical quantity with an uncertainty and (or) a unit:"
   ]
  },
  {
   "cell_type": "code",
   "execution_count": 1,
   "metadata": {},
   "outputs": [],
   "source": [
    "import metrolopy as uc"
   ]
  },
  {
   "cell_type": "code",
   "execution_count": 2,
   "metadata": {},
   "outputs": [
    {
     "data": {
      "text/html": [
       "<span>341.39(15)&nbsp;m/s</span>"
      ],
      "text/plain": [
       "341.39(15) m/s"
      ]
     },
     "execution_count": 2,
     "metadata": {},
     "output_type": "execute_result"
    }
   ],
   "source": [
    "distance = uc.gummy(342.195,u=0.023,unit='m')\n",
    "time = uc.gummy(1.00235,u=0.00044,unit='s')\n",
    "\n",
    "distance/time"
   ]
  },
  {
   "cell_type": "markdown",
   "metadata": {},
   "source": [
    "The uncertainty in the velocity is automatically calculated using first order uncertainty propagation.  By default, \n",
    "concise notation is used when a gummy is printed, where the numbers in parentheses represent the uncertainty in the \n",
    "last digits of the value. There are many other ways that the uncertainty can be notated, here is another example:"
   ]
  },
  {
   "cell_type": "code",
   "execution_count": 3,
   "metadata": {},
   "outputs": [
    {
     "data": {
      "text/html": [
       "<span>1.2346(23)&nbsp;cm</span>"
      ],
      "text/plain": [
       "1.2346(23) cm"
      ]
     },
     "execution_count": 3,
     "metadata": {},
     "output_type": "execute_result"
    }
   ],
   "source": [
    "side_1 = uc.gummy(1.23456,u=0.00234,unit='cm',utype='B')\n",
    "side_1"
   ]
  },
  {
   "cell_type": "code",
   "execution_count": 4,
   "metadata": {},
   "outputs": [
    {
     "data": {
      "text/html": [
       "<span>(1.2346 &plusmn; 0.0023)&nbsp;cm</span>"
      ],
      "text/plain": [
       "(1.2346 ± 0.0023) cm"
      ]
     },
     "execution_count": 4,
     "metadata": {},
     "output_type": "execute_result"
    }
   ],
   "source": [
    "side_1.style='+-'\n",
    "side_1"
   ]
  },
  {
   "cell_type": "markdown",
   "metadata": {},
   "source": [
    "You can set the default style for gummys by setting `gummy.style` at the class level (e.g. `uc.gummy.style = '+-'`).\n",
    "\n",
    "Notice that the displayed value is rounded to two significant figures in the uncertainty.  You can change number of significant\n",
    "figures in the uncertainty by setting the `gummy.nsig` property (either at the instance or class level).\n",
    "\n",
    "We can express the uncertainty in different units:"
   ]
  },
  {
   "cell_type": "code",
   "execution_count": 5,
   "metadata": {},
   "outputs": [
    {
     "data": {
      "text/html": [
       "<span>1.2346&nbsp;cm &plusmn; 23&nbsp;&mu;m</span>"
      ],
      "text/plain": [
       "1.2346 cm ± 23 μm"
      ]
     },
     "execution_count": 5,
     "metadata": {},
     "output_type": "execute_result"
    }
   ],
   "source": [
    "side_1.uunit = 'um' # the uunit property sets the units on the uncertainty\n",
    "side_1"
   ]
  },
  {
   "cell_type": "markdown",
   "metadata": {},
   "source": [
    "or express the uncertainty as a relative uncertainty:"
   ]
  },
  {
   "cell_type": "code",
   "execution_count": 6,
   "metadata": {},
   "outputs": [
    {
     "data": {
      "text/html": [
       "<span>1.2346&nbsp;cm &plusmn; 0.19%</span>"
      ],
      "text/plain": [
       "1.2346 cm ± 0.19%"
      ]
     },
     "execution_count": 6,
     "metadata": {},
     "output_type": "execute_result"
    }
   ],
   "source": [
    "side_1.uunit = '%'\n",
    "side_1"
   ]
  },
  {
   "cell_type": "raw",
   "metadata": {},
   "source": [
    "The gummy `side_1` was defined with a utype of 'B'.  This is just an arbitrary string that we can attach to gummys to classify\n",
    "the uncertainty type (how you want classify uncertainties or the labels that you use is up to you).\n",
    "\n",
    "Gummy instances can also track degrees of freedom and propagate them using the Welch-Satterthwaite approximation.  \n",
    "\n",
    "Say we measured side 2 six times. We can create a gummy instance and use the `dof` keywork (e.g. \n",
    "`uc.gummy(3.059,u=0.020,dof=5,unit='mm')` but here we will use the MetroloPy `mean` function:"
   ]
  },
  {
   "cell_type": "code",
   "execution_count": 7,
   "metadata": {},
   "outputs": [
    {
     "data": {
      "text/html": [
       "<span>3.059(20)&nbsp;mm with <i>&nu;</i>&nbsp;=&nbsp;5</span>"
      ],
      "text/plain": [
       "3.059(20) mm with 5 degrees of freedom"
      ]
     },
     "execution_count": 7,
     "metadata": {},
     "output_type": "execute_result"
    }
   ],
   "source": [
    "measurements = [3.011,3.125,2.995,3.055,3.067,3.101]\n",
    "side_2 = uc.mean(measurements,unit='mm',utype='A')\n",
    "side_2"
   ]
  },
  {
   "cell_type": "markdown",
   "metadata": {},
   "source": [
    "(By default, the number of degrees of freedom is printed when it is less than 10.  This can be turned off by setting \n",
    "`side_b.show_dof = False`.  Set it to `None` to get back the default behavior. The global settings default for many\n",
    "properties of newly created gummy instances can be set by setting the class properties, e.g. `uc.gummy.style` and \n",
    "`uc.gummy.show_dof`).\n",
    "\n",
    "Up to this point we have been dealing with standard uncertainties (sometimes referred to roughly as 1-sigma uncertaities).\n",
    "But often uncertainties are expressed as expanded uncertainties.  For example, if we want the uncerainty interval at a\n",
    "95% level of confidence we can set the `gummy.p` property to 0.95 then the value and expanded uncertainty, calculated \n",
    "using a Student's <i>t</i> distribution with 5 degrees of freedom is:"
   ]
  },
  {
   "cell_type": "code",
   "execution_count": 8,
   "metadata": {},
   "outputs": [
    {
     "data": {
      "text/html": [
       "<span>3.059(53)&nbsp;mm with a 95% level of confidence and <i>&nu;</i>&nbsp;=&nbsp;5</span>"
      ],
      "text/plain": [
       "3.059(53) mm with a 95% level of confidence and 5 degrees of freedom"
      ]
     },
     "execution_count": 8,
     "metadata": {},
     "output_type": "execute_result"
    }
   ],
   "source": [
    "side_2.p = 0.95\n",
    "side_2"
   ]
  },
  {
   "cell_type": "markdown",
   "metadata": {},
   "source": [
    "The expanded uncertainty can be accessed with the `U` property:"
   ]
  },
  {
   "cell_type": "code",
   "execution_count": 9,
   "metadata": {},
   "outputs": [
    {
     "data": {
      "text/plain": [
       "0.05268125101927068"
      ]
     },
     "execution_count": 9,
     "metadata": {},
     "output_type": "execute_result"
    }
   ],
   "source": [
    "side_2.U"
   ]
  },
  {
   "cell_type": "markdown",
   "metadata": {},
   "source": [
    "While the standard uncertianty is still available with the lower case `u` property:"
   ]
  },
  {
   "cell_type": "code",
   "execution_count": 10,
   "metadata": {},
   "outputs": [
    {
     "data": {
      "text/plain": [
       "0.02049390153191918"
      ]
     },
     "execution_count": 10,
     "metadata": {},
     "output_type": "execute_result"
    }
   ],
   "source": [
    "side_2.u"
   ]
  },
  {
   "cell_type": "markdown",
   "metadata": {},
   "source": [
    "The `.u` property always gives the standard uncertainty in the same units as the value (`.x`).\n",
    "\n",
    "The `.k` property gives the coverage factor, which is the ratio $ U/u $.  Note that we can also \n",
    "set the `.k` property and then get the level of confidence corresponding that $ k $ value by \n",
    "reading the `.p` property."
   ]
  },
  {
   "cell_type": "code",
   "execution_count": 11,
   "metadata": {},
   "outputs": [
    {
     "data": {
      "text/html": [
       "<span>3.059(53)&nbsp;mm with <i>k</i>&nbsp;=&nbsp;2.6, a 95% level of confidence and <i>&nu;</i>&nbsp;=&nbsp;5</span>"
      ],
      "text/plain": [
       "3.059(53) mm with k = 2.6, a 95% level of confidence and 5 degrees of freedom"
      ]
     },
     "execution_count": 11,
     "metadata": {},
     "output_type": "execute_result"
    }
   ],
   "source": [
    "side_2.show_k = True\n",
    "side_2"
   ]
  },
  {
   "cell_type": "markdown",
   "metadata": {},
   "source": [
    "Here are the gummy properties that we have used so far:"
   ]
  },
  {
   "cell_type": "code",
   "execution_count": 12,
   "metadata": {},
   "outputs": [
    {
     "name": "stdout",
     "output_type": "stream",
     "text": [
      "side_2.x = 3.059000 (read only, value in units side_2.unit)\n",
      "side_2.u = 0.020494 (read only, standard uncertainy in units side_2.unit)\n",
      "side_2.U = 0.052681 (read only, expanded uncertainty in units side_2.uunit)\n",
      "side_2.dof = 5.000000 (read only)\n",
      "side_2.unit = mm (setting this will affect side_2.x and side_2.u)\n",
      "side_2.p = 0.950000 (setting this will affect side_2.k)\n",
      "side_2.k = 2.570582 (setting this will affect side_2.p)\n",
      "side_2.uunit = None (None means that the units for side_2.U are the same as for side_2.x)\n",
      "side_2.utype = A (read only)\n"
     ]
    }
   ],
   "source": [
    "print('side_2.x = {:f} (read only, value in units side_2.unit)'.format(side_2.x))\n",
    "print('side_2.u = {:f} (read only, standard uncertainy in units side_2.unit)'.format(side_2.u))\n",
    "print('side_2.U = {:f} (read only, expanded uncertainty in units side_2.uunit)'.format(side_2.U))\n",
    "print('side_2.dof = {:f} (read only)'.format(side_2.dof))\n",
    "print('side_2.unit = {:s} (setting this will affect side_2.x and side_2.u)'.format(str(side_2.unit)))\n",
    "print('side_2.p = {:f} (setting this will affect side_2.k)'.format(side_2.p))\n",
    "print('side_2.k = {:f} (setting this will affect side_2.p)'.format(side_2.k))\n",
    "print('side_2.uunit = {:s} (None means that the units for side_2.U are the same as for side_2.x)'.format(str(side_2.uunit)))\n",
    "print('side_2.utype = {:s} (read only)'.format(side_2.utype))"
   ]
  },
  {
   "cell_type": "markdown",
   "metadata": {},
   "source": [
    "Note that we can set the `.unit` property for an in-place unit conversion, but we can also use the `.convert` \n",
    "method to return a copy of the gummy (e.g. `side_2_copy = side_2.convert('m')`).\n",
    "\n",
    "We can also create a gummy based on an expanded uncertainty and/or relative uncertainty by using k, p and uunit \n",
    "keywords in the initializer:"
   ]
  },
  {
   "cell_type": "code",
   "execution_count": 13,
   "metadata": {},
   "outputs": [
    {
     "data": {
      "text/html": [
       "<span>3.445&thinsp;799&thinsp;5&nbsp;kg &plusmn; 1.2&nbsp;ppm with a 95% level of confidence and <i>&nu;</i>&nbsp;=&nbsp;7</span>"
      ],
      "text/plain": [
       "3.445 799 5 kg ± 1.2 ppm with a 95% level of confidence and 7 degrees of freedom"
      ]
     },
     "execution_count": 13,
     "metadata": {},
     "output_type": "execute_result"
    }
   ],
   "source": [
    "g = uc.gummy(3.4457995,u=1.24,dof=7,p=0.95,unit='kg',uunit='ppm')\n",
    "g"
   ]
  },
  {
   "cell_type": "markdown",
   "metadata": {},
   "source": [
    "The `.u` property gives the standard uncertainty in kg:"
   ]
  },
  {
   "cell_type": "code",
   "execution_count": 14,
   "metadata": {},
   "outputs": [
    {
     "data": {
      "text/plain": [
       "1.8069642046180892e-06"
      ]
     },
     "execution_count": 14,
     "metadata": {},
     "output_type": "execute_result"
    }
   ],
   "source": [
    "g.u # this is equal to g.x*g.U*1e-6/g.k"
   ]
  },
  {
   "cell_type": "markdown",
   "metadata": {},
   "source": [
    "### propagating uncertainty\n",
    "\n",
    "Many numpy functions will work with gummys:"
   ]
  },
  {
   "cell_type": "code",
   "execution_count": 15,
   "metadata": {},
   "outputs": [],
   "source": [
    "import numpy as np"
   ]
  },
  {
   "cell_type": "code",
   "execution_count": 16,
   "metadata": {},
   "outputs": [
    {
     "data": {
      "text/html": [
       "<span>0.2429(16) with <i>&nu;</i>&nbsp;=&nbsp;5.8</span>"
      ],
      "text/plain": [
       "0.2429(16) with 5.8 degrees of freedom"
      ]
     },
     "execution_count": 16,
     "metadata": {},
     "output_type": "execute_result"
    }
   ],
   "source": [
    "angle = np.arctan(side_2/side_1)\n",
    "angle"
   ]
  },
  {
   "cell_type": "code",
   "execution_count": 17,
   "metadata": {},
   "outputs": [
    {
     "data": {
      "text/html": [
       "<span>13.916(93)° with <i>&nu;</i>&nbsp;=&nbsp;5.8</span>"
      ],
      "text/plain": [
       "13.916(93)° with 5.8 degrees of freedom"
      ]
     },
     "execution_count": 17,
     "metadata": {},
     "output_type": "execute_result"
    }
   ],
   "source": [
    "angle.convert('degree')"
   ]
  },
  {
   "cell_type": "markdown",
   "metadata": {},
   "source": [
    "Or another example:"
   ]
  },
  {
   "cell_type": "markdown",
   "metadata": {},
   "source": [
    "The gummys keep track of any correlations between values for example\n",
    "if we define:"
   ]
  },
  {
   "cell_type": "code",
   "execution_count": 18,
   "metadata": {},
   "outputs": [
    {
     "data": {
      "text/html": [
       "<span>0.3777(26)&nbsp;cm<sup>2</sup> with <i>&nu;</i>&nbsp;=&nbsp;5.8</span>"
      ],
      "text/plain": [
       "0.3777(26) cm² with 5.8 degrees of freedom"
      ]
     },
     "execution_count": 18,
     "metadata": {},
     "output_type": "execute_result"
    }
   ],
   "source": [
    "area = side_1*side_2\n",
    "area"
   ]
  },
  {
   "cell_type": "markdown",
   "metadata": {},
   "source": [
    "then there is a correlation between the area and the angle:"
   ]
  },
  {
   "cell_type": "code",
   "execution_count": 19,
   "metadata": {},
   "outputs": [
    {
     "data": {
      "text/plain": [
       "0.851780140482482"
      ]
     },
     "execution_count": 19,
     "metadata": {},
     "output_type": "execute_result"
    }
   ],
   "source": [
    "area.correlation(angle)"
   ]
  },
  {
   "cell_type": "markdown",
   "metadata": {},
   "source": [
    "which can also be expressed as a covariance:"
   ]
  },
  {
   "cell_type": "code",
   "execution_count": 20,
   "metadata": {},
   "outputs": [
    {
     "data": {
      "text/plain": [
       "3.6403257452426167e-06"
      ]
     },
     "execution_count": 20,
     "metadata": {},
     "output_type": "execute_result"
    }
   ],
   "source": [
    "area.covariance(angle)"
   ]
  },
  {
   "cell_type": "code",
   "execution_count": 21,
   "metadata": {},
   "outputs": [
    {
     "data": {
      "text/plain": [
       "[[1, 0.851780140482482], [0.851780140482482, 1]]"
      ]
     },
     "execution_count": 21,
     "metadata": {},
     "output_type": "execute_result"
    }
   ],
   "source": [
    "uc.gummy.correlation_matrix([angle,area])"
   ]
  },
  {
   "cell_type": "code",
   "execution_count": 22,
   "metadata": {},
   "outputs": [
    {
     "data": {
      "text/plain": [
       "[[2.641868561782402e-06, 3.6403257452426167e-06],\n",
       " [3.6403257452426167e-06, 6.913759482755993e-06]]"
      ]
     },
     "execution_count": 22,
     "metadata": {},
     "output_type": "execute_result"
    }
   ],
   "source": [
    "uc.gummy.covariance_matrix([angle,area])"
   ]
  },
  {
   "cell_type": "markdown",
   "metadata": {},
   "source": [
    "MetroloPy takes into account these correlations when propagating uncertainties.\n",
    "\n",
    "Up to now we have assumed that the uncertainties are best modeled with a Normal probability distribution, but we can define a gummy with, say, a uniform probability distribution:"
   ]
  },
  {
   "cell_type": "code",
   "execution_count": 23,
   "metadata": {},
   "outputs": [
    {
     "data": {
      "text/html": [
       "<span>0.9346(55)&nbsp;N</span>"
      ],
      "text/plain": [
       "0.9346(55) N"
      ]
     },
     "execution_count": 23,
     "metadata": {},
     "output_type": "execute_result"
    }
   ],
   "source": [
    "force = uc.gummy(uc.UniformDist(center=0.934566,half_width=0.0096),unit='N',utype='B')\n",
    "force"
   ]
  },
  {
   "cell_type": "markdown",
   "metadata": {},
   "source": [
    "And we can calculate:"
   ]
  },
  {
   "cell_type": "code",
   "execution_count": 24,
   "metadata": {},
   "outputs": [
    {
     "data": {
      "text/html": [
       "<span>2.475(23)&nbsp;N/cm<sup>2</sup></span>"
      ],
      "text/plain": [
       "2.475(23) N/cm²"
      ]
     },
     "execution_count": 24,
     "metadata": {},
     "output_type": "execute_result"
    }
   ],
   "source": [
    "pressure = force/area\n",
    "pressure"
   ]
  },
  {
   "cell_type": "code",
   "execution_count": 25,
   "metadata": {},
   "outputs": [
    {
     "data": {
      "text/html": [
       "<span>24.75(23)&nbsp;kPa</span>"
      ],
      "text/plain": [
       "24.75(23) kPa"
      ]
     },
     "execution_count": 25,
     "metadata": {},
     "output_type": "execute_result"
    }
   ],
   "source": [
    "pressure.unit = 'kPa'\n",
    "pressure"
   ]
  },
  {
   "cell_type": "markdown",
   "metadata": {},
   "source": [
    "### Monte-Carlo uncertainty propagation\n",
    "\n",
    "Above, gummy just took the standard deviation of the force probability distribution and then forgot about the shape and propagated the uncertainties assuming everything was Gaussian.  However we can also do a Monte-Carlo simulation using the actual probability distributions:"
   ]
  },
  {
   "cell_type": "code",
   "execution_count": 26,
   "metadata": {},
   "outputs": [
    {
     "data": {
      "image/png": "[encoded data removed]",
      "text/plain": [
       "<Figure size 640x480 with 1 Axes>"
      ]
     },
     "metadata": {},
     "output_type": "display_data"
    },
    {
     "data": {
      "image/png": "[encoded data removed]",
      "text/plain": [
       "<Figure size 640x480 with 1 Axes>"
      ]
     },
     "metadata": {},
     "output_type": "display_data"
    },
    {
     "data": {
      "image/png": "[encoded data removed]",
      "text/plain": [
       "<Figure size 640x480 with 1 Axes>"
      ]
     },
     "metadata": {},
     "output_type": "display_data"
    }
   ],
   "source": [
    "%matplotlib inline\n",
    "uc.gummy.simulate([area,force,pressure])  # generate Monte-Carlo data, default is 1e6 samples for each gummy\n",
    "\n",
    "area.name = 'Area'  #give the variables names for the plot\n",
    "area.p = 0.95  # put the reference lines in the histograms at a 95% confidence interval\n",
    "area.hist()  # create the histogram for a (we could have used a.hist(p=0.95) instead of a.p = 0.95 above)\n",
    "\n",
    "force.name = 'Force'\n",
    "force.p = 0.95\n",
    "force.cimethod = 'symmetric'  # The default method for calculating confidence intervals is \n",
    "                          # cimethod = 'shortest', the shortest interval with the desired \n",
    "                          # confidence level.  But this doesn't work well with a uniform distribution.\n",
    "force.hist()\n",
    "\n",
    "pressure.name = 'Pressure'\n",
    "pressure.p = 0.95\n",
    "pressure.name = 'P'\n",
    "pressure.hist()"
   ]
  },
  {
   "cell_type": "markdown",
   "metadata": {},
   "source": [
    "The Monte-Carlo uncertainty above is pretty close (though not exactly the same as) the result from the\n",
    "first order uncertainty propagation:"
   ]
  },
  {
   "cell_type": "code",
   "execution_count": 27,
   "metadata": {},
   "outputs": [
    {
     "data": {
      "text/html": [
       "<i>P</i> = <span>24.75(48)&nbsp;kPa with a 95% level of confidence</span>"
      ],
      "text/plain": [
       "P = 24.75(48) kPa with a 95% level of confidence"
      ]
     },
     "execution_count": 27,
     "metadata": {},
     "output_type": "execute_result"
    }
   ],
   "source": [
    "pressure"
   ]
  },
  {
   "cell_type": "markdown",
   "metadata": {},
   "source": [
    "### an uncertainty budget\n",
    "Let's summarize the uncertainty budget in a table:"
   ]
  },
  {
   "cell_type": "code",
   "execution_count": 28,
   "metadata": {},
   "outputs": [
    {
     "data": {
      "text/html": [
       "<div>\n",
       "<style>\n",
       ".budget_table {\n",
       "    display: table;\n",
       "}\n",
       "    \n",
       ".budget_row {\n",
       "    display: table-row;\n",
       "}\n",
       "\n",
       ".budget_header_row {\n",
       "    display: table-row;\n",
       "    font-weight: bold;\n",
       "}\n",
       "\n",
       ".budget_first_col_header_cell\n",
       "{\n",
       "    display: table-cell;\n",
       "    text-align: center;\n",
       "    border-bottom: solid;\n",
       "    border-width: thin;\n",
       "    padding-left: 5px;\n",
       "    padding-right: 5px;\n",
       "}\n",
       "\n",
       ".budget_header_cell {\n",
       "    display: table-cell;\n",
       "    text-align: center;\n",
       "    border-bottom: solid;\n",
       "    border-width: thin;\n",
       "    padding-left: 5px;\n",
       "    padding-right: 5px;\n",
       "    \n",
       "}\n",
       "\n",
       ".budget_first_col_x_cell {\n",
       "    display: table-cell;\n",
       "    text-align: center;\n",
       "    padding-left: 5px;\n",
       "    padding-right: 5px;\n",
       "    min-width: 8ex;\n",
       "}\n",
       "\n",
       ".budget_x_cell {\n",
       "    display: table-cell;\n",
       "    text-align: center;\n",
       "    padding-left: 5px;\n",
       "    padding-right: 5px;\n",
       "    min-width: 8ex;\n",
       "}\n",
       "</style>\n",
       "<div class=\"budget_table\">\n",
       "    <div class=\"budget_header_row\">\n",
       "        <div class = \"budget_header_cell\">Component</div>\n",
       "        <div class = \"budget_header_cell\">Unit</div>\n",
       "        <div class = \"budget_header_cell\">Value</div>\n",
       "        <div class = \"budget_header_cell\"><span><i>u</i></span></div>\n",
       "        <div class = \"budget_header_cell\"><span><i>&nu;<sub>eff</sub></i></span></div>\n",
       "        <div class = \"budget_header_cell\">Type</div>\n",
       "        <div class = \"budget_header_cell\">|<span>&part;<i>y</i>/&part;<i>x</i></span>|</div>\n",
       "        <div class = \"budget_header_cell\"><span><i>s</i></span></div>\n",
       "    </div>\n",
       "    <div class=\"budget_row\">\n",
       "        <div class=\"budget_first_col_x_cell\">Side 2</div>\n",
       "        <div class=\"budget_x_cell\">mm</div>\n",
       "        <div class=\"budget_x_cell\">3.059</div>\n",
       "        <div class=\"budget_x_cell\">0.020</div>\n",
       "        <div class=\"budget_x_cell\">5</div>\n",
       "        <div class=\"budget_x_cell\">A</div>\n",
       "        <div class=\"budget_x_cell\">8.1</div>\n",
       "        <div class=\"budget_x_cell\">0.54</div>\n",
       "    </div>\n",
       "    <div class=\"budget_row\">\n",
       "        <div class=\"budget_first_col_x_cell\">Force</div>\n",
       "        <div class=\"budget_x_cell\">N</div>\n",
       "        <div class=\"budget_x_cell\">0.9346</div>\n",
       "        <div class=\"budget_x_cell\">0.0055</div>\n",
       "        <div class=\"budget_x_cell\">&infin;</div>\n",
       "        <div class=\"budget_x_cell\">B</div>\n",
       "        <div class=\"budget_x_cell\">26</div>\n",
       "        <div class=\"budget_x_cell\">0.42</div>\n",
       "    </div>\n",
       "    <div class=\"budget_row\">\n",
       "        <div class=\"budget_first_col_header_cell\">Side 1</div>\n",
       "        <div class=\"budget_header_cell\">cm</div>\n",
       "        <div class=\"budget_header_cell\">1.2346</div>\n",
       "        <div class=\"budget_header_cell\">0.0023</div>\n",
       "        <div class=\"budget_header_cell\">&infin;</div>\n",
       "        <div class=\"budget_header_cell\">B</div>\n",
       "        <div class=\"budget_header_cell\">20</div>\n",
       "        <div class=\"budget_header_cell\">0.04</div>\n",
       "    </div>\n",
       "    <div class=\"budget_row\">\n",
       "        <div class=\"budget_first_col_x_cell\"><span><i>u<sub>c</sub></i> type A</div>\n",
       "        <div class=\"budget_x_cell\">kPa</div>\n",
       "        <div class=\"budget_x_cell\">  </div>\n",
       "        <div class=\"budget_x_cell\">0.17</div>\n",
       "        <div class=\"budget_x_cell\">5.0</div>\n",
       "        <div class=\"budget_x_cell\">A</div>\n",
       "        <div class=\"budget_x_cell\">  </div>\n",
       "        <div class=\"budget_x_cell\">0.54</div>\n",
       "    </div>\n",
       "    <div class=\"budget_row\">\n",
       "        <div class=\"budget_first_col_header_cell\"><span><i>u<sub>c</sub></i> type B</div>\n",
       "        <div class=\"budget_header_cell\">kPa</div>\n",
       "        <div class=\"budget_header_cell\">  </div>\n",
       "        <div class=\"budget_header_cell\">0.15</div>\n",
       "        <div class=\"budget_header_cell\">&infin;</div>\n",
       "        <div class=\"budget_header_cell\">B</div>\n",
       "        <div class=\"budget_header_cell\">  </div>\n",
       "        <div class=\"budget_header_cell\">0.46</div>\n",
       "    </div>\n",
       "    <div class=\"budget_row\">\n",
       "        <div class=\"budget_first_col_header_cell\"><i>P</i></div>\n",
       "        <div class=\"budget_header_cell\">kPa</div>\n",
       "        <div class=\"budget_header_cell\">24.75</div>\n",
       "        <div class=\"budget_header_cell\">0.23</div>\n",
       "        <div class=\"budget_header_cell\">17.4</div>\n",
       "        <div class=\"budget_header_cell\">  </div>\n",
       "        <div class=\"budget_header_cell\">  </div>\n",
       "        <div class=\"budget_header_cell\">  </div>\n",
       "    </div>\n",
       "    <div class=\"budget_row\">\n",
       "        <div class=\"budget_first_col_x_cell\"><span><i>U<sub>c<sub></i> at <i>k</i> = 2.1</span></div>\n",
       "        <div class=\"budget_x_cell\">kPa</div>\n",
       "        <div class=\"budget_x_cell\">  </div>\n",
       "        <div class=\"budget_x_cell\">0.48</div>\n",
       "        <div class=\"budget_x_cell\">  </div>\n",
       "        <div class=\"budget_x_cell\">  </div>\n",
       "        <div class=\"budget_x_cell\">  </div>\n",
       "        <div class=\"budget_x_cell\">  </div>\n",
       "    </div>\n",
       "</div>\n",
       "</div>"
      ],
      "text/plain": [
       "      Component Unit  Value      u  DoF Type |dy/dx|    s\n",
       "         Side 2   mm  3.059  0.020    5    A     8.1 0.54\n",
       "          Force    N 0.9346 0.0055    ∞    B      26 0.42\n",
       "         Side 1   cm 1.2346 0.0023    ∞    B      20 0.04\n",
       "Combined type A  kPa          0.17  5.0    A         0.54\n",
       "Combined type B  kPa          0.15    ∞    B         0.46\n",
       "              P  kPa  24.75   0.23 17.4                  \n",
       "  Uc at k = 2.1  kPa          0.48                       "
      ]
     },
     "execution_count": 28,
     "metadata": {},
     "output_type": "execute_result"
    }
   ],
   "source": [
    "side_1.name = 'Side 1' # define names for the table listing\n",
    "side_2.name = 'Side 2'\n",
    "pressure.budget([side_1,side_2,force])"
   ]
  },
  {
   "cell_type": "markdown",
   "metadata": {},
   "source": [
    "By default the table is ordered with the most significant contributors to the uncertainty\n",
    "at the top.\n",
    "\n",
    "Maybe you prefer relative uncertainties in the table:"
   ]
  },
  {
   "cell_type": "code",
   "execution_count": 29,
   "metadata": {},
   "outputs": [
    {
     "data": {
      "text/html": [
       "<div>\n",
       "<style>\n",
       ".budget_table {\n",
       "    display: table;\n",
       "}\n",
       "    \n",
       ".budget_row {\n",
       "    display: table-row;\n",
       "}\n",
       "\n",
       ".budget_header_row {\n",
       "    display: table-row;\n",
       "    font-weight: bold;\n",
       "}\n",
       "\n",
       ".budget_first_col_header_cell\n",
       "{\n",
       "    display: table-cell;\n",
       "    text-align: center;\n",
       "    border-bottom: solid;\n",
       "    border-width: thin;\n",
       "    padding-left: 5px;\n",
       "    padding-right: 5px;\n",
       "}\n",
       "\n",
       ".budget_header_cell {\n",
       "    display: table-cell;\n",
       "    text-align: center;\n",
       "    border-bottom: solid;\n",
       "    border-width: thin;\n",
       "    padding-left: 5px;\n",
       "    padding-right: 5px;\n",
       "    \n",
       "}\n",
       "\n",
       ".budget_first_col_x_cell {\n",
       "    display: table-cell;\n",
       "    text-align: center;\n",
       "    padding-left: 5px;\n",
       "    padding-right: 5px;\n",
       "    min-width: 8ex;\n",
       "}\n",
       "\n",
       ".budget_x_cell {\n",
       "    display: table-cell;\n",
       "    text-align: center;\n",
       "    padding-left: 5px;\n",
       "    padding-right: 5px;\n",
       "    min-width: 8ex;\n",
       "}\n",
       "</style>\n",
       "<div class=\"budget_table\">\n",
       "    <div class=\"budget_header_row\">\n",
       "        <div class = \"budget_header_cell\">Component</div>\n",
       "        <div class = \"budget_header_cell\">Unit</div>\n",
       "        <div class = \"budget_header_cell\">Value</div>\n",
       "        <div class = \"budget_header_cell\"><span><i>u</i>&thinsp;/&thinsp;%</span></div>\n",
       "        <div class = \"budget_header_cell\"><span><i>&nu;<sub>eff</sub></i></span></div>\n",
       "        <div class = \"budget_header_cell\">Type</div>\n",
       "        <div class = \"budget_header_cell\">|<span>&part;<i>y</i>/&part;<i>x</i></span>|</div>\n",
       "        <div class = \"budget_header_cell\"><span><i>s</i></span></div>\n",
       "    </div>\n",
       "    <div class=\"budget_row\">\n",
       "        <div class=\"budget_first_col_x_cell\">Side 2</div>\n",
       "        <div class=\"budget_x_cell\">mm</div>\n",
       "        <div class=\"budget_x_cell\">3.059</div>\n",
       "        <div class=\"budget_x_cell\">0.67</div>\n",
       "        <div class=\"budget_x_cell\">5</div>\n",
       "        <div class=\"budget_x_cell\">A</div>\n",
       "        <div class=\"budget_x_cell\">8.1</div>\n",
       "        <div class=\"budget_x_cell\">0.54</div>\n",
       "    </div>\n",
       "    <div class=\"budget_row\">\n",
       "        <div class=\"budget_first_col_x_cell\">Force</div>\n",
       "        <div class=\"budget_x_cell\">N</div>\n",
       "        <div class=\"budget_x_cell\">0.9346</div>\n",
       "        <div class=\"budget_x_cell\">0.59</div>\n",
       "        <div class=\"budget_x_cell\">&infin;</div>\n",
       "        <div class=\"budget_x_cell\">B</div>\n",
       "        <div class=\"budget_x_cell\">26</div>\n",
       "        <div class=\"budget_x_cell\">0.42</div>\n",
       "    </div>\n",
       "    <div class=\"budget_row\">\n",
       "        <div class=\"budget_first_col_header_cell\">Side 1</div>\n",
       "        <div class=\"budget_header_cell\">cm</div>\n",
       "        <div class=\"budget_header_cell\">1.2346</div>\n",
       "        <div class=\"budget_header_cell\">0.19</div>\n",
       "        <div class=\"budget_header_cell\">&infin;</div>\n",
       "        <div class=\"budget_header_cell\">B</div>\n",
       "        <div class=\"budget_header_cell\">20</div>\n",
       "        <div class=\"budget_header_cell\">0.04</div>\n",
       "    </div>\n",
       "    <div class=\"budget_row\">\n",
       "        <div class=\"budget_first_col_x_cell\"><span><i>u<sub>c</sub></i> type A</div>\n",
       "        <div class=\"budget_x_cell\">kPa</div>\n",
       "        <div class=\"budget_x_cell\">  </div>\n",
       "        <div class=\"budget_x_cell\">0.67</div>\n",
       "        <div class=\"budget_x_cell\">5.0</div>\n",
       "        <div class=\"budget_x_cell\">A</div>\n",
       "        <div class=\"budget_x_cell\">  </div>\n",
       "        <div class=\"budget_x_cell\">0.54</div>\n",
       "    </div>\n",
       "    <div class=\"budget_row\">\n",
       "        <div class=\"budget_first_col_header_cell\"><span><i>u<sub>c</sub></i> type B</div>\n",
       "        <div class=\"budget_header_cell\">kPa</div>\n",
       "        <div class=\"budget_header_cell\">  </div>\n",
       "        <div class=\"budget_header_cell\">0.62</div>\n",
       "        <div class=\"budget_header_cell\">&infin;</div>\n",
       "        <div class=\"budget_header_cell\">B</div>\n",
       "        <div class=\"budget_header_cell\">  </div>\n",
       "        <div class=\"budget_header_cell\">0.46</div>\n",
       "    </div>\n",
       "    <div class=\"budget_row\">\n",
       "        <div class=\"budget_first_col_header_cell\"><i>P</i></div>\n",
       "        <div class=\"budget_header_cell\">kPa</div>\n",
       "        <div class=\"budget_header_cell\">24.75</div>\n",
       "        <div class=\"budget_header_cell\">0.23</div>\n",
       "        <div class=\"budget_header_cell\">17.4</div>\n",
       "        <div class=\"budget_header_cell\">  </div>\n",
       "        <div class=\"budget_header_cell\">  </div>\n",
       "        <div class=\"budget_header_cell\">  </div>\n",
       "    </div>\n",
       "    <div class=\"budget_row\">\n",
       "        <div class=\"budget_first_col_x_cell\"><span><i>U<sub>c<sub></i> at <i>k</i> = 2.1</span></div>\n",
       "        <div class=\"budget_x_cell\">kPa</div>\n",
       "        <div class=\"budget_x_cell\">  </div>\n",
       "        <div class=\"budget_x_cell\">1.9</div>\n",
       "        <div class=\"budget_x_cell\">  </div>\n",
       "        <div class=\"budget_x_cell\">  </div>\n",
       "        <div class=\"budget_x_cell\">  </div>\n",
       "        <div class=\"budget_x_cell\">  </div>\n",
       "    </div>\n",
       "</div>\n",
       "</div>"
      ],
      "text/plain": [
       "      Component Unit  Value u / %  DoF Type |dy/dx|    s\n",
       "         Side 2   mm  3.059  0.67    5    A     8.1 0.54\n",
       "          Force    N 0.9346  0.59    ∞    B      26 0.42\n",
       "         Side 1   cm 1.2346  0.19    ∞    B      20 0.04\n",
       "Combined type A  kPa         0.67  5.0    A         0.54\n",
       "Combined type B  kPa         0.62    ∞    B         0.46\n",
       "              P  kPa  24.75  0.23 17.4                  \n",
       "  Uc at k = 2.1  kPa          1.9                       "
      ]
     },
     "execution_count": 29,
     "metadata": {},
     "output_type": "execute_result"
    }
   ],
   "source": [
    "pressure.budget([side_1,side_2,force],uunit='%')"
   ]
  },
  {
   "cell_type": "markdown",
   "metadata": {},
   "source": [
    "### units and mathematical operations\n",
    "\n",
    "During mathematical operations, gummys will automatically convert units if necessary:"
   ]
  },
  {
   "cell_type": "code",
   "execution_count": 30,
   "metadata": {},
   "outputs": [
    {
     "data": {
      "text/html": [
       "6.534&nbsp;cm"
      ],
      "text/plain": [
       "6.534 cm"
      ]
     },
     "execution_count": 30,
     "metadata": {},
     "output_type": "execute_result"
    }
   ],
   "source": [
    "x = uc.gummy(1.2,unit='cm')\n",
    "y = uc.gummy(2.1,unit='in')\n",
    "x + y"
   ]
  },
  {
   "cell_type": "code",
   "execution_count": 31,
   "metadata": {},
   "outputs": [
    {
     "data": {
      "text/html": [
       "6.4008&nbsp;cm<sup>2</sup>"
      ],
      "text/plain": [
       "6.4008 cm²"
      ]
     },
     "execution_count": 31,
     "metadata": {},
     "output_type": "execute_result"
    }
   ],
   "source": [
    "x*y"
   ]
  },
  {
   "cell_type": "markdown",
   "metadata": {},
   "source": [
    "Use the c flag to control the unit conversion.  Put the .c property on the unit that you want converted:"
   ]
  },
  {
   "cell_type": "code",
   "execution_count": 32,
   "metadata": {},
   "outputs": [
    {
     "data": {
      "text/html": [
       "2.572&thinsp;440&thinsp;944&thinsp;881&thinsp;89&nbsp;in"
      ],
      "text/plain": [
       "2.572 440 944 881 89 in"
      ]
     },
     "execution_count": 32,
     "metadata": {},
     "output_type": "execute_result"
    }
   ],
   "source": [
    "x.c + y"
   ]
  },
  {
   "cell_type": "code",
   "execution_count": 33,
   "metadata": {},
   "outputs": [
    {
     "data": {
      "text/html": [
       "0.992&thinsp;125&thinsp;984&thinsp;251&thinsp;969&nbsp;in<sup>2</sup>"
      ],
      "text/plain": [
       "0.992 125 984 251 969 in²"
      ]
     },
     "execution_count": 33,
     "metadata": {},
     "output_type": "execute_result"
    }
   ],
   "source": [
    "x.c*y"
   ]
  },
  {
   "cell_type": "markdown",
   "metadata": {},
   "source": [
    "Nonlinear units (e.g. the decibel) or units with a offset origin may affect the way gummys behave under mathematical operations:"
   ]
  },
  {
   "cell_type": "code",
   "execution_count": 34,
   "metadata": {},
   "outputs": [
    {
     "data": {
      "text/html": [
       "8&nbsp;°C"
      ],
      "text/plain": [
       "8 °C"
      ]
     },
     "execution_count": 34,
     "metadata": {},
     "output_type": "execute_result"
    }
   ],
   "source": [
    "t1 = uc.gummy(27,unit='degC')\n",
    "t2 = uc.gummy(19,unit='degC')\n",
    "difference = t1 - t2  # t1 + t2 will raise an exception\n",
    "difference"
   ]
  },
  {
   "cell_type": "markdown",
   "metadata": {},
   "source": [
    "The difference looks like it has units degree Celsius, however gummy understands that it represents a temperature interval:"
   ]
  },
  {
   "cell_type": "code",
   "execution_count": 35,
   "metadata": {},
   "outputs": [
    {
     "data": {
      "text/plain": [
       "'degree Celsius interval'"
      ]
     },
     "execution_count": 35,
     "metadata": {},
     "output_type": "execute_result"
    }
   ],
   "source": [
    "difference.unit.name"
   ]
  },
  {
   "cell_type": "code",
   "execution_count": 36,
   "metadata": {},
   "outputs": [
    {
     "data": {
      "text/html": [
       "8&nbsp;K"
      ],
      "text/plain": [
       "8 K"
      ]
     },
     "execution_count": 36,
     "metadata": {},
     "output_type": "execute_result"
    }
   ],
   "source": [
    "difference.convert('K')"
   ]
  },
  {
   "cell_type": "markdown",
   "metadata": {},
   "source": [
    "This is different from, say `t1` defined above:"
   ]
  },
  {
   "cell_type": "code",
   "execution_count": 37,
   "metadata": {},
   "outputs": [
    {
     "data": {
      "text/plain": [
       "'degree Celsius'"
      ]
     },
     "execution_count": 37,
     "metadata": {},
     "output_type": "execute_result"
    }
   ],
   "source": [
    "t1.unit.name"
   ]
  },
  {
   "cell_type": "code",
   "execution_count": 38,
   "metadata": {},
   "outputs": [
    {
     "data": {
      "text/html": [
       "300.15&nbsp;K"
      ],
      "text/plain": [
       "300.15 K"
      ]
     },
     "execution_count": 38,
     "metadata": {},
     "output_type": "execute_result"
    }
   ],
   "source": [
    "t1.convert('K')"
   ]
  },
  {
   "cell_type": "markdown",
   "metadata": {},
   "source": [
    "### built-in and user defined units\n",
    "\n",
    "A number of units are built into gummy.  Use the search_units function to search them:"
   ]
  },
  {
   "cell_type": "code",
   "execution_count": 39,
   "metadata": {},
   "outputs": [
    {
     "data": {
      "text/html": [
       "<ul>\n",
       "<li>angstrom, 1&nbsp;&#8491;&nbsp;=&nbsp;1 &times; 10<sup>-10</sup>&nbsp;m, alias: Å</li>\n",
       "<li>astronomical unit, 1&nbsp;au&nbsp;=&nbsp;1.495&thinsp;978&thinsp;707 &times; 10<sup>11</sup>&nbsp;m, aliases: au, ua</li>\n",
       "<li>bohr, 1&nbsp;<i>a</i><sub>0</sub>&nbsp;=&nbsp;<span>5.291&thinsp;772&thinsp;105&thinsp;41(80) &times; 10<sup>-11</sup></span>, aliases: a0, a(0)</li>\n",
       "<li>cable, 1&nbsp;cb&nbsp;=&nbsp;120&nbsp;ftm, alias: cb</li>\n",
       "<li>chain, 1&nbsp;ch&nbsp;=&nbsp;4&nbsp;rd, alias: ch</li>\n",
       "<li>fathom, 1&nbsp;ftm&nbsp;=&nbsp;2&nbsp;yd, alias: ftm</li>\n",
       "<li>foot, 1&nbsp;ft&nbsp;=&nbsp;12&nbsp;in, alias: ft</li>\n",
       "<li>furlong, 1&nbsp;fur&nbsp;=&nbsp;10&nbsp;ch, alias: fur</li>\n",
       "<li>hand, 1&nbsp;hand&nbsp;=&nbsp;4&nbsp;in</li>\n",
       "<li>inch (1 prefix), 1&nbsp;in&nbsp;=&nbsp;0.0254&nbsp;m, alias: in</li>\n",
       "<li>league, 1&nbsp;lea&nbsp;=&nbsp;3&nbsp;mi, alias: lea</li>\n",
       "<li>light hour, 1&nbsp;light-hour&nbsp;=&nbsp;1&nbsp;<i>c</i>&thinsp;h, alias: light-hour</li>\n",
       "<li>light minute, 1&nbsp;light-minute&nbsp;=&nbsp;1&nbsp;<i>c</i>&thinsp;min, alias: light-minute</li>\n",
       "<li>light second, 1&nbsp;light-second&nbsp;=&nbsp;1&nbsp;<i>c</i>&thinsp;s, alias: light-second</li>\n",
       "<li>light year, 1&nbsp;ly&nbsp;=&nbsp;1&nbsp;<i>c</i>&thinsp;a, alias: ly</li>\n",
       "<li>link, 1&nbsp;li&nbsp;=&nbsp;0.66&nbsp;ft, alias: li</li>\n",
       "<li>metre (20 prefixes), symbol: m, aliases: m, meter</li>\n",
       "<li>mile, 1&nbsp;mi&nbsp;=&nbsp;1760&nbsp;yd, alias: mi</li>\n",
       "<li>nautical mile, 1&nbsp;M&nbsp;=&nbsp;1852&nbsp;m, aliases: M, NM, Nm, nmi</li>\n",
       "<li>parsec (3 prefixes), 1&nbsp;pc&nbsp;=&nbsp;<span>206&thinsp;264.806&thinsp;247&thinsp;096&thinsp;363&thinsp;2(97)&nbsp;au</span>, alias: pc</li>\n",
       "<li>pica, 1&nbsp;P/&nbsp;=&nbsp;1/6&nbsp;in, alias: P/</li>\n",
       "<li>Planck length, 1&nbsp;<i>l</i><sub>P</sub>&nbsp;=&nbsp;<span>1.616&thinsp;255(18) &times; 10<sup>-35</sup>&nbsp;m</span>, alias: l(P)</li>\n",
       "<li>point, 1&nbsp;p&nbsp;=&nbsp;1/12&nbsp;P/, alias: p</li>\n",
       "<li>rack unit, 1&nbsp;U&nbsp;=&nbsp;1.75&nbsp;in</li>\n",
       "<li>reduced Compton wavelength, 1&nbsp;ƛ<sub>C</sub>&nbsp;=&nbsp;1&nbsp;ℏ/(<i>m</i><sub>e</sub>&thinsp;<i>c</i>), aliases: lambda(C), ƛ(C)</li>\n",
       "<li>rod, 1&nbsp;rd&nbsp;=&nbsp;25&nbsp;ft, alias: rd</li>\n",
       "<li>siriometer, 1&nbsp;Sm&nbsp;=&nbsp;1&thinsp;000&thinsp;000&nbsp;au</li>\n",
       "<li>survey foot, 1&nbsp;ft&nbsp;=&nbsp;1200/3937&nbsp;m</li>\n",
       "<li>survey mile, 1&nbsp;mi&nbsp;=&nbsp;8&nbsp;fur, alias: statute mile</li>\n",
       "<li>thousandth of an inch, 1&nbsp;mil&nbsp;=&nbsp;0.001&nbsp;in, aliases: mil, thou, thousandth</li>\n",
       "<li>yard, 1&nbsp;yd&nbsp;=&nbsp;3&nbsp;ft, alias: yd</li></ul>"
      ],
      "text/plain": [
       "angstrom, 1 Å = 1e-10 m, alias: Å\n",
       "astronomical unit, 1 au = 1.495 978 707e+11 m, aliases: au, ua\n",
       "bohr, 1 a0 = 5.291 772 105 41(80)e-11, aliases: a0, a(0)\n",
       "cable, 1 cb = 120 ftm, alias: cb\n",
       "chain, 1 ch = 4 rd, alias: ch\n",
       "fathom, 1 ftm = 2 yd, alias: ftm\n",
       "foot, 1 ft = 12 in, alias: ft\n",
       "furlong, 1 fur = 10 ch, alias: fur\n",
       "hand, 1 hand = 4 in\n",
       "inch (1 prefix), 1 in = 0.0254 m, alias: in\n",
       "league, 1 lea = 3 mi, alias: lea\n",
       "light hour, 1 light-hour = 1 c h, alias: light-hour\n",
       "light minute, 1 light-minute = 1 c min, alias: light-minute\n",
       "light second, 1 light-second = 1 c s, alias: light-second\n",
       "light year, 1 ly = 1 c a, alias: ly\n",
       "link, 1 li = 0.66 ft, alias: li\n",
       "metre (20 prefixes), symbol: m, aliases: m, meter\n",
       "mile, 1 mi = 1760 yd, alias: mi\n",
       "nautical mile, 1 M = 1852 m, aliases: M, NM, Nm, nmi\n",
       "parsec (3 prefixes), 1 pc = 206 264.806 247 096 363 2(97) au, alias: pc\n",
       "pica, 1 P/ = 1/6 in, alias: P/\n",
       "Planck length, 1 l(P) = 1.616 255(18)e-35 m, alias: l(P)\n",
       "point, 1 p = 1/12 P/, alias: p\n",
       "rack unit, 1 U = 1.75 in\n",
       "reduced Compton wavelength, 1 ƛ(C) = 1 ℏ/(m(e) c), aliases: lambda(C), ƛ(C)\n",
       "rod, 1 rd = 25 ft, alias: rd\n",
       "siriometer, 1 Sm = 1 000 000 au\n",
       "survey foot, 1 ft = 1200/3937 m\n",
       "survey mile, 1 mi = 8 fur, alias: statute mile\n",
       "thousandth of an inch, 1 mil = 0.001 in, aliases: mil, thou, thousandth\n",
       "yard, 1 yd = 3 ft, alias: yd"
      ]
     },
     "execution_count": 39,
     "metadata": {},
     "output_type": "execute_result"
    }
   ],
   "source": [
    "uc.search_units('length',fmt='html')\n",
    "# uc.search_units() with no argument displays all loaded units"
   ]
  },
  {
   "cell_type": "markdown",
   "metadata": {},
   "source": [
    "You can also create custom units.  Creating an instance of the Unit class automatically loads the unit definition into the unit library so it can be accessed by its string name.  The Unit class has two required parameters, the unit name and the unit symbol.  "
   ]
  },
  {
   "cell_type": "code",
   "execution_count": 40,
   "metadata": {},
   "outputs": [
    {
     "data": {
      "text/html": [
       "wm"
      ],
      "text/plain": [
       "wm"
      ]
     },
     "execution_count": 40,
     "metadata": {},
     "output_type": "execute_result"
    }
   ],
   "source": [
    "uc.Unit('weird meter','wm',conversion=uc.Conversion('m',0.9144),add_symbol=True)"
   ]
  },
  {
   "cell_type": "markdown",
   "metadata": {},
   "source": [
    "The optional conversion defines a unit conversion, in this case 1 wm = 0.9144 m.  Because add_symbol was set to True when creating the unit, we can access the unit using its symbol 'wm' as well as by its name '[weird meter]' ( the brackets are required because there is a space in the name):"
   ]
  },
  {
   "cell_type": "code",
   "execution_count": 41,
   "metadata": {},
   "outputs": [
    {
     "data": {
      "text/html": [
       "1&nbsp;wm"
      ],
      "text/plain": [
       "1 wm"
      ]
     },
     "execution_count": 41,
     "metadata": {},
     "output_type": "execute_result"
    }
   ],
   "source": [
    "w = uc.gummy(1,unit='wm')\n",
    "w"
   ]
  },
  {
   "cell_type": "code",
   "execution_count": 42,
   "metadata": {},
   "outputs": [
    {
     "data": {
      "text/html": [
       "0.9144&nbsp;m"
      ],
      "text/plain": [
       "0.9144 m"
      ]
     },
     "execution_count": 42,
     "metadata": {},
     "output_type": "execute_result"
    }
   ],
   "source": [
    "w.convert('m')"
   ]
  },
  {
   "cell_type": "markdown",
   "metadata": {},
   "source": [
    "### physical constants\n",
    "\n",
    "MetroloPy includes some built-in constants, for example:"
   ]
  },
  {
   "cell_type": "code",
   "execution_count": 43,
   "metadata": {},
   "outputs": [
    {
     "data": {
      "text/html": [
       "<i>G</i> = <span>6.674&thinsp;30(15) &times; 10<sup>-11</sup>&nbsp;m<sup>3</sup>/(kg&thinsp;s<sup>2</sup>)</span>"
      ],
      "text/plain": [
       "G = 6.674 30(15)e-11 m³/(kg s²)"
      ]
     },
     "execution_count": 43,
     "metadata": {},
     "output_type": "execute_result"
    }
   ],
   "source": [
    "uc.constant('G')"
   ]
  },
  {
   "cell_type": "code",
   "execution_count": 44,
   "metadata": {},
   "outputs": [
    {
     "data": {
      "text/plain": [
       "'Newtonian constant of gravitation, CODATA 2022'"
      ]
     },
     "execution_count": 44,
     "metadata": {},
     "output_type": "execute_result"
    }
   ],
   "source": [
    "uc.constant('G').description"
   ]
  },
  {
   "cell_type": "markdown",
   "metadata": {
    "scrolled": true
   },
   "source": [
    "Correlations between constants are correctly handled.  For example the proton and electron masses are know to about 0.3 ppb, \n",
    "however the ratio of the masses has a smaller uncertainty."
   ]
  },
  {
   "cell_type": "code",
   "execution_count": 45,
   "metadata": {},
   "outputs": [
    {
     "data": {
      "text/html": [
       "<i>m<sub>e</sub></i> = <span>9.109&thinsp;383&thinsp;714&thinsp;0 &times; 10<sup>-31</sup>&nbsp;kg &plusmn; 0.30&nbsp;ppb</span>"
      ],
      "text/plain": [
       "m(e) = 9.109 383 714 0e-31 kg ± 0.30 ppb"
      ]
     },
     "execution_count": 45,
     "metadata": {},
     "output_type": "execute_result"
    }
   ],
   "source": [
    "me = uc.constant('m(e)')\n",
    "me.uunit = 'ppb'\n",
    "me"
   ]
  },
  {
   "cell_type": "code",
   "execution_count": 46,
   "metadata": {},
   "outputs": [
    {
     "data": {
      "text/html": [
       "<i>m</i><sub>p</sub> = <span>1.672&thinsp;621&thinsp;925&thinsp;97 &times; 10<sup>-27</sup>&nbsp;kg &plusmn; 0.30&nbsp;ppb</span>"
      ],
      "text/plain": [
       "m(p) = 1.672 621 925 97e-27 kg ± 0.30 ppb"
      ]
     },
     "execution_count": 46,
     "metadata": {},
     "output_type": "execute_result"
    }
   ],
   "source": [
    "mp = uc.constant('m(p)')\n",
    "mp.uunit = 'ppb'\n",
    "mp"
   ]
  },
  {
   "cell_type": "code",
   "execution_count": 47,
   "metadata": {},
   "outputs": [
    {
     "data": {
      "text/html": [
       "<span>1&thinsp;836.152&thinsp;673&thinsp;426 &plusmn; 0.017&nbsp;ppb</span>"
      ],
      "text/plain": [
       "1 836.152 673 426 ± 0.017 ppb"
      ]
     },
     "execution_count": 47,
     "metadata": {},
     "output_type": "execute_result"
    }
   ],
   "source": [
    "r = mp/me\n",
    "r.uunit = 'ppb'\n",
    "r"
   ]
  },
  {
   "cell_type": "markdown",
   "metadata": {},
   "source": [
    "Constants can be found with `search_constants` function:"
   ]
  },
  {
   "cell_type": "code",
   "execution_count": 48,
   "metadata": {},
   "outputs": [
    {
     "data": {
      "text/html": [
       "<ul>\n",
       "<li>classical electron radius <i>r</i><sub>r</sub> = <span>2.817&thinsp;940&thinsp;320&thinsp;4(13) &times; 10<sup>-15</sup>&nbsp;m</span>, alias: r(e)</li>\n",
       "<li>Compton wavelength <i>&lambda;</i><sub>C</sub> = <span>2.426&thinsp;310&thinsp;235&thinsp;35(73) &times; 10<sup>-12</sup>&nbsp;m</span>, aliases: lambda(C), λ(C)</li>\n",
       "<li>electron g factor <i>g</i><sub>e<sup>-</sup></sub> = <span>-2.002&thinsp;319&thinsp;304&thinsp;360&thinsp;92(36)</span>, alias: g(e-)</li>\n",
       "<li>electron gyromagnetic ratio <i>&gamma;</i><sub>e</sub> = <span>1.760&thinsp;859&thinsp;627&thinsp;82(53) &times; 10<sup>11</sup>&nbsp;1/(T&thinsp;s)</span>, aliases: gamma(e), γ(e)</li>\n",
       "<li>electron magnetic moment <i>&mu;</i><sub>e</sub> = <span>-9.284&thinsp;764&thinsp;691&thinsp;6(28) &times; 10<sup>-24</sup>&nbsp;J/T</span>, aliases: mu(e), μ(e)</li>\n",
       "<li>electron magnetic moment anomaly <i>a</i><sub>e</sub> = <span>0.001&thinsp;159&thinsp;652&thinsp;180&thinsp;46(18)</span>, alias: a(e)</li>\n",
       "<li>electron mass <i>m<sub>e</sub></i> = <span>9.109&thinsp;383&thinsp;714&thinsp;0 &times; 10<sup>-31</sup>&nbsp;kg &plusmn; 0.30&nbsp;ppb</span>, alias: m(e)</li></ul>"
      ],
      "text/plain": [
       "classical electron radius r(e) = 2.817 940 320 4(13)e-15 m, alias: r(e)\n",
       "Compton wavelength λ(C) = 2.426 310 235 35(73)e-12 m, aliases: lambda(C), λ(C)\n",
       "electron g factor g(e-) = -2.002 319 304 360 92(36), alias: g(e-)\n",
       "electron gyromagnetic ratio γ(e) = 1.760 859 627 82(53)e+11 1/(T s), aliases: gamma(e), γ(e)\n",
       "electron magnetic moment μ(e) = -9.284 764 691 6(28)e-24 J/T, aliases: mu(e), μ(e)\n",
       "electron magnetic moment anomaly a(e) = 0.001 159 652 180 46(18), alias: a(e)\n",
       "electron mass m(e) = 9.109 383 714 0e-31 kg ± 0.30 ppb, alias: m(e)"
      ]
     },
     "execution_count": 48,
     "metadata": {},
     "output_type": "execute_result"
    }
   ],
   "source": [
    "uc.search_constants('electron')"
   ]
  },
  {
   "cell_type": "markdown",
   "metadata": {},
   "source": [
    "The constants can be referenced by name or alias.  To list all constants, call the `search_constants` function with no arguments.\n",
    "\n",
    "Users can also define constants to be added to the constant library:"
   ]
  },
  {
   "cell_type": "code",
   "execution_count": 49,
   "metadata": {},
   "outputs": [
    {
     "data": {
      "text/html": [
       "<i>rk</i> = 1.75&nbsp;in"
      ],
      "text/plain": [
       "rk = 1.75 in"
      ]
     },
     "execution_count": 49,
     "metadata": {},
     "output_type": "execute_result"
    }
   ],
   "source": [
    "uc.GummyConstant(1.75,unit='in',name='rack constant',symbol='rk',description='see also \"rack unit\"',add_symbol=True)\n",
    "uc.constant('rk')"
   ]
  },
  {
   "cell_type": "markdown",
   "metadata": {},
   "source": [
    "### curve fitting"
   ]
  },
  {
   "cell_type": "markdown",
   "metadata": {},
   "source": [
    "The gummy package also includes several classes for fitting functions, for example:"
   ]
  },
  {
   "cell_type": "code",
   "execution_count": 50,
   "metadata": {},
   "outputs": [
    {
     "data": {
      "text/html": [
       "<i>y</i> = <i>p</i><sub>1</sub> + <i>p</i><sub>2</sub> <i>x</i> + <i>p</i><sub>3</sub> <i>x</i><sup>2</sup><br><br>best fit parameters:<br><i>p</i><sub>1</sub> = <span>1.7(19)&nbsp;m</span><br><i>p</i><sub>2</sub> = <span>-1.9(20)&nbsp;m/s</span><br><i>p</i><sub>3</sub> = <span>1.37(43)&nbsp;m/s<sup>2</sup></span><br>"
      ],
      "text/plain": [
       "y = p(1) + p(2)*x + p(3)*x**2\n",
       "\n",
       "best fit parameters:\n",
       "p(1) = 1.7(19) m\n",
       "p(2) = -1.9(20) m/s\n",
       "p(3) = 1.37(43) m/s²"
      ]
     },
     "execution_count": 50,
     "metadata": {},
     "output_type": "execute_result"
    }
   ],
   "source": [
    "y0 = uc.gummy(0.11,2.2,unit='m')\n",
    "y1 = uc.gummy(2.12,1.2,unit='m')\n",
    "y2 = uc.gummy(3.02,1.3,unit='m')\n",
    "y3 = uc.gummy(5.55,2.3,unit='m')\n",
    "y4 = uc.gummy(16.22,1.2,unit='m')\n",
    "\n",
    "fit = uc.PolyFit([0,1,2,3,4],[y0,y1,y2,y3,y4],deg=2,xunit='s')\n",
    "fit"
   ]
  },
  {
   "cell_type": "markdown",
   "metadata": {},
   "source": [
    "We can plot the fit along with the standard uncertainty in the fit at any point:"
   ]
  },
  {
   "cell_type": "code",
   "execution_count": 51,
   "metadata": {},
   "outputs": [
    {
     "data": {
      "image/png": "[encoded data removed]",
      "text/plain": [
       "<Figure size 640x480 with 1 Axes>"
      ]
     },
     "metadata": {},
     "output_type": "display_data"
    }
   ],
   "source": [
    "fit.plot(cik=1,xlabel='time',ylabel='distance')  \n",
    "# cik is the coverage factor for the fit uncertainty band,\n",
    "# alterately the cip parameter can be set to give a\n",
    "# probability level for the band"
   ]
  },
  {
   "cell_type": "markdown",
   "metadata": {},
   "source": [
    "There are several other fit classes:"
   ]
  },
  {
   "cell_type": "code",
   "execution_count": 52,
   "metadata": {},
   "outputs": [
    {
     "data": {
      "text/html": [
       "<i>y</i> = <i>p</i><sub>1</sub> sin(<i>p</i><sub>2</sub> x + <i>p</i><sub>3</sub>) + <i>p</i><sub>4</sub><br><br>best fit parameters:<br><i>p</i><sub>1</sub> = <span>1.004(34)&nbsp;m</span><br><i>p</i><sub>2</sub> = <span>1.003(13)&nbsp;1/t</span><br><i>p</i><sub>3</sub> = <span>0.871(76)</span><br><i>p</i><sub>4</sub> = <span>1.329(25)&nbsp;m</span><br>"
      ],
      "text/plain": [
       "y = p(1)*sin(p(2)*x + p(3)) + p(4)\n",
       "\n",
       "best fit parameters:\n",
       "p(1) = 1.004(34) m\n",
       "p(2) = 1.003(13) 1/t\n",
       "p(3) = 0.871(76)\n",
       "p(4) = 1.329(25) m"
      ]
     },
     "execution_count": 52,
     "metadata": {},
     "output_type": "execute_result"
    }
   ],
   "source": [
    "x = np.linspace(0,10,100)\n",
    "y = np.sin(x + 0.88) + 1.3 + np.random.normal(scale=0.23,size=100)\n",
    "\n",
    "sinfit = uc.SinFit(x,y,xunit='t',yunit='m')\n",
    "sinfit"
   ]
  },
  {
   "cell_type": "code",
   "execution_count": 53,
   "metadata": {},
   "outputs": [
    {
     "data": {
      "image/png": "[encoded data removed]",
      "text/plain": [
       "<Figure size 640x480 with 1 Axes>"
      ]
     },
     "metadata": {},
     "output_type": "display_data"
    }
   ],
   "source": [
    "sinfit.plot(cip=0.95,clp=0.95)  \n",
    "# cip is the level of confidence for the fit uncertainty band in green\n",
    "\n",
    "# clp (or clk) sets control limits in red, the region where the data points\n",
    "# arelikely to lie"
   ]
  },
  {
   "cell_type": "markdown",
   "metadata": {},
   "source": [
    "The predicted value is a gummy (and is correlated with the fit parameter gummys):"
   ]
  },
  {
   "cell_type": "code",
   "execution_count": 54,
   "metadata": {},
   "outputs": [
    {
     "data": {
      "text/html": [
       "<span>1.134(49)&nbsp;m</span>"
      ],
      "text/plain": [
       "1.134(49) m"
      ]
     },
     "execution_count": 54,
     "metadata": {},
     "output_type": "execute_result"
    }
   ],
   "source": [
    "sinfit.ypred(5.2)"
   ]
  },
  {
   "cell_type": "markdown",
   "metadata": {},
   "source": [
    "User defined functions can be fit with the `Fit` class, either by passing the function \n",
    "to the constructor of `Fit` or by sub-classing `Fit`."
   ]
  },
  {
   "cell_type": "markdown",
   "metadata": {},
   "source": [
    "### applying numerical functions to gummys\n",
    "\n",
    "A number of mathematical functions that can be used with gummys are included with the gummy package:"
   ]
  },
  {
   "cell_type": "code",
   "execution_count": 55,
   "metadata": {},
   "outputs": [
    {
     "data": {
      "text/html": [
       "<span>0.9435(73)</span>"
      ],
      "text/plain": [
       "0.9435(73)"
      ]
     },
     "execution_count": 55,
     "metadata": {},
     "output_type": "execute_result"
    }
   ],
   "source": [
    "a = uc.gummy(1.233,0.022)\n",
    "uc.sin(a)"
   ]
  },
  {
   "cell_type": "markdown",
   "metadata": {},
   "source": [
    "Many NumPy functions can also be used with gummys:"
   ]
  },
  {
   "cell_type": "code",
   "execution_count": 56,
   "metadata": {},
   "outputs": [
    {
     "data": {
      "text/html": [
       "<span>0.9435(73)</span>"
      ],
      "text/plain": [
       "0.9435(73)"
      ]
     },
     "execution_count": 56,
     "metadata": {},
     "output_type": "execute_result"
    }
   ],
   "source": [
    "import numpy as np\n",
    "np.sin(a)"
   ]
  },
  {
   "cell_type": "markdown",
   "metadata": {},
   "source": [
    "The `apply` static method can also be used to apply a arbitrary numerical function to a gummy or several gummys.  The apply method takes as its first parameter the function, which must take one or more float parameters and return a float or list or numpy.ndarray of floats.  The second parameter is another function which gives the derivative of the first function.  The remaining parameters are the gummy(s) or float(s) to which the function will be applied.  We also demonstrate here that gummy can be used with the mpmath package to work with extended precision floating point types:"
   ]
  },
  {
   "cell_type": "code",
   "execution_count": 57,
   "metadata": {},
   "outputs": [
    {
     "data": {
      "text/html": [
       "<span>0.327&thinsp;194&thinsp;696&thinsp;796&thinsp;152&thinsp;244&thinsp;173&thinsp;344&thinsp;085&thinsp;267&thinsp;620&thinsp;606&thinsp;064&thinsp;301&thinsp;406&thinsp;9(21)</span>"
      ],
      "text/plain": [
       "0.327 194 696 796 152 244 173 344 085 267 620 606 064 301 406 9(21)"
      ]
     },
     "execution_count": 57,
     "metadata": {},
     "output_type": "execute_result"
    }
   ],
   "source": [
    "# the mpmath package can be installed with pip or conda\n",
    "from mpmath import sin, cos, mpf, mp\n",
    "\n",
    "mp.dps = 50\n",
    "# set mpmath to a precision of 50 digits\n",
    "\n",
    "uc.gummy.max_digits = 50\n",
    "# by default gummy doesn't display more than 20 digits;\n",
    "# this option does not affect the working precision, only \n",
    "# the display\n",
    "\n",
    "a = uc.gummy(mpf('1/3'),mpf('2.2e-45'))\n",
    "\n",
    "uc.gummy.apply(sin,cos,a)"
   ]
  },
  {
   "cell_type": "markdown",
   "metadata": {},
   "source": [
    "The napply static method is similar to the apply method except that the derivatives are calculated numerically and do not need to be applied:"
   ]
  },
  {
   "cell_type": "code",
   "execution_count": 58,
   "metadata": {},
   "outputs": [
    {
     "data": {
      "text/html": [
       "<span>0.327&thinsp;194&thinsp;696&thinsp;796&thinsp;152&thinsp;244&thinsp;173&thinsp;344&thinsp;085&thinsp;267&thinsp;620&thinsp;606&thinsp;064&thinsp;301&thinsp;406&thinsp;9(21)</span>"
      ],
      "text/plain": [
       "0.327 194 696 796 152 244 173 344 085 267 620 606 064 301 406 9(21)"
      ]
     },
     "execution_count": 58,
     "metadata": {},
     "output_type": "execute_result"
    }
   ],
   "source": [
    "uc.gummy.napply(sin,a)"
   ]
  },
  {
   "cell_type": "code",
   "execution_count": 59,
   "metadata": {},
   "outputs": [],
   "source": [
    "#set the max digits back to its original value\n",
    "uc.gummy.max_digits = 20"
   ]
  },
  {
   "cell_type": "markdown",
   "metadata": {},
   "source": [
    "### creating correlated gummys"
   ]
  },
  {
   "cell_type": "markdown",
   "metadata": {},
   "source": [
    "Use the create static method to generate a list of correlated gummys:"
   ]
  },
  {
   "cell_type": "code",
   "execution_count": 60,
   "metadata": {},
   "outputs": [
    {
     "data": {
      "text/plain": [
       "[1.10(30), 2.20(10), 3.30(40)]"
      ]
     },
     "execution_count": 60,
     "metadata": {},
     "output_type": "execute_result"
    }
   ],
   "source": [
    "g = uc.gummy.create([1.1,2.2,3.3],u=[0.3,0.1,0.4],correlation_matrix=[[1,0,0.5],[0,1,0],[0.5,0,1]])\n",
    "g"
   ]
  },
  {
   "cell_type": "code",
   "execution_count": 61,
   "metadata": {},
   "outputs": [
    {
     "data": {
      "text/plain": [
       "0.05999999999999998"
      ]
     },
     "execution_count": 61,
     "metadata": {},
     "output_type": "execute_result"
    }
   ],
   "source": [
    "g[0].covariance(g[2])"
   ]
  },
  {
   "cell_type": "markdown",
   "metadata": {},
   "source": [
    "The `covariance_matrix` key word can be used in the `create` method in place of `u` and `correlation_matrix`.\n",
    "\n",
    "Note that mathematical operations between gummys will also create correlations between the input and output gummys."
   ]
  },
  {
   "cell_type": "markdown",
   "metadata": {},
   "source": [
    "### complex numbers with uncertainty\n",
    "\n",
    "The `jummy` class can be used to represent complex numbers with uncertainties:"
   ]
  },
  {
   "cell_type": "code",
   "execution_count": 62,
   "metadata": {},
   "outputs": [
    {
     "data": {
      "text/html": [
       "<span>1.33(11)</span> + <i>j</i>&thinsp;<span>0.23(18)</span>"
      ],
      "text/plain": [
       "1.33(11) + j0.23(18)"
      ]
     },
     "execution_count": 62,
     "metadata": {},
     "output_type": "execute_result"
    }
   ],
   "source": [
    "c = uc.jummy(real=1.334,imag=0.2345,cov=[[0.0127,0.0055],[0.0055,0.0334]])\n",
    "c"
   ]
  },
  {
   "cell_type": "markdown",
   "metadata": {},
   "source": [
    "Polar coordinates can also be used:"
   ]
  },
  {
   "cell_type": "code",
   "execution_count": 63,
   "metadata": {},
   "outputs": [
    {
     "data": {
      "text/html": [
       "<span>1.35(12)</span>&thinsp;&middot;&thinsp;<i>e</i><sup>&thinsp;<i>j</i>&thinsp;<span>0.17(13)</span></sup>"
      ],
      "text/plain": [
       "1.35(12) exp(j0.17(13))"
      ]
     },
     "execution_count": 63,
     "metadata": {},
     "output_type": "execute_result"
    }
   ],
   "source": [
    "c.style='polar'\n",
    "c"
   ]
  },
  {
   "cell_type": "code",
   "execution_count": 64,
   "metadata": {},
   "outputs": [
    {
     "data": {
      "text/html": [
       "<span>-0.38(51)</span> - <i>j</i>&thinsp;<span>2.42(17)</span>"
      ],
      "text/plain": [
       "-0.38(51) - j2.42(17)"
      ]
     },
     "execution_count": 64,
     "metadata": {},
     "output_type": "execute_result"
    }
   ],
   "source": [
    "d = uc.jummy(r=2.445,phi=4.556,cov=[[0.022,0],[0,0.044]])\n",
    "d"
   ]
  },
  {
   "cell_type": "markdown",
   "metadata": {},
   "source": [
    "The `.real`, `.imag`, `.r` and `.phi` properties return gummy values:"
   ]
  },
  {
   "cell_type": "code",
   "execution_count": 65,
   "metadata": {},
   "outputs": [
    {
     "data": {
      "text/html": [
       "<span>-4.4(10)</span> + <i>j</i>&thinsp;<span>2.1(24)</span>"
      ],
      "text/plain": [
       "-4.4(10) + j2.1(24)"
      ]
     },
     "execution_count": 65,
     "metadata": {},
     "output_type": "execute_result"
    }
   ],
   "source": [
    "e = c + d**2\n",
    "e"
   ]
  },
  {
   "cell_type": "code",
   "execution_count": 66,
   "metadata": {},
   "outputs": [
    {
     "data": {
      "text/html": [
       "<span>-4.4(10)</span>"
      ],
      "text/plain": [
       "-4.4(10)"
      ]
     },
     "execution_count": 66,
     "metadata": {},
     "output_type": "execute_result"
    }
   ],
   "source": [
    "e.real"
   ]
  },
  {
   "cell_type": "code",
   "execution_count": 67,
   "metadata": {},
   "outputs": [
    {
     "data": {
      "text/html": [
       "<span>2.1(24)</span>"
      ],
      "text/plain": [
       "2.1(24)"
      ]
     },
     "execution_count": 67,
     "metadata": {},
     "output_type": "execute_result"
    }
   ],
   "source": [
    "e.imag"
   ]
  },
  {
   "cell_type": "code",
   "execution_count": 68,
   "metadata": {},
   "outputs": [
    {
     "data": {
      "text/html": [
       "<span>4.82(80)</span>"
      ],
      "text/plain": [
       "4.82(80)"
      ]
     },
     "execution_count": 68,
     "metadata": {},
     "output_type": "execute_result"
    }
   ],
   "source": [
    "e.r"
   ]
  },
  {
   "cell_type": "code",
   "execution_count": 69,
   "metadata": {},
   "outputs": [
    {
     "data": {
      "text/html": [
       "<span>2.70(52)</span>"
      ],
      "text/plain": [
       "2.70(52)"
      ]
     },
     "execution_count": 69,
     "metadata": {},
     "output_type": "execute_result"
    }
   ],
   "source": [
    "e.phi"
   ]
  },
  {
   "cell_type": "markdown",
   "metadata": {},
   "source": [
    "### formatting"
   ]
  },
  {
   "cell_type": "markdown",
   "metadata": {},
   "source": [
    "By default in a Jupyter notebook, gummy output is rendered using HTML:"
   ]
  },
  {
   "cell_type": "code",
   "execution_count": 70,
   "metadata": {},
   "outputs": [
    {
     "data": {
      "text/html": [
       "<span>1.37(43)&nbsp;m/s<sup>2</sup></span>"
      ],
      "text/plain": [
       "1.37(43) m/s²"
      ]
     },
     "execution_count": 70,
     "metadata": {},
     "output_type": "execute_result"
    }
   ],
   "source": [
    "acceleration = fit.p[2]\n",
    "acceleration"
   ]
  },
  {
   "cell_type": "markdown",
   "metadata": {},
   "source": [
    "But they can also be displayed using LaTeX:"
   ]
  },
  {
   "cell_type": "code",
   "execution_count": 71,
   "metadata": {},
   "outputs": [
    {
     "data": {
      "text/latex": [
       "$\\displaystyle  1.37(43)\\:\\mathrm{m}/\\mathrm{s}^{2} $"
      ],
      "text/plain": [
       "<IPython.core.display.Math object>"
      ]
     },
     "metadata": {},
     "output_type": "display_data"
    }
   ],
   "source": [
    "acceleration.latex()"
   ]
  },
  {
   "cell_type": "markdown",
   "metadata": {},
   "source": [
    "The latex() method is like a print command but rendering the output with LaTeX.  There is also a html() method.  Output can also be printed using only ASCII or unicode characters:"
   ]
  },
  {
   "cell_type": "code",
   "execution_count": 72,
   "metadata": {},
   "outputs": [
    {
     "name": "stdout",
     "output_type": "stream",
     "text": [
      "1.37(43) m/s**2\n"
     ]
    }
   ],
   "source": [
    "acceleration.ascii()"
   ]
  },
  {
   "cell_type": "code",
   "execution_count": 73,
   "metadata": {},
   "outputs": [
    {
     "name": "stdout",
     "output_type": "stream",
     "text": [
      "1.37(43) m/s²\n"
     ]
    }
   ],
   "source": [
    "acceleration.unicode()"
   ]
  },
  {
   "cell_type": "markdown",
   "metadata": {},
   "source": [
    "Use the tolatex() or tohtml() methods to get a string with the LaTeX or HTML encoding for the gummy."
   ]
  },
  {
   "cell_type": "code",
   "execution_count": 74,
   "metadata": {},
   "outputs": [
    {
     "data": {
      "text/plain": [
       "'1.37(43)\\\\:\\\\mathrm{m}/\\\\mathrm{s}^{2}'"
      ]
     },
     "execution_count": 74,
     "metadata": {},
     "output_type": "execute_result"
    }
   ],
   "source": [
    "acceleration.tolatex()"
   ]
  },
  {
   "cell_type": "code",
   "execution_count": 75,
   "metadata": {},
   "outputs": [
    {
     "data": {
      "text/plain": [
       "'<span>1.37(43)&nbsp;m/s<sup>2</sup></span>'"
      ]
     },
     "execution_count": 75,
     "metadata": {},
     "output_type": "execute_result"
    }
   ],
   "source": [
    "acceleration.tohtml()"
   ]
  },
  {
   "cell_type": "markdown",
   "metadata": {},
   "source": [
    "It is also possible to change the default output to LaTeX:"
   ]
  },
  {
   "cell_type": "code",
   "execution_count": 76,
   "metadata": {},
   "outputs": [
    {
     "data": {
      "text/latex": [
       "$ 1.37(43)\\:\\mathrm{m}/\\mathrm{s}^{2} $"
      ],
      "text/markdown": [
       "$ 1.37(43)\\:\\mathrm{m}/\\mathrm{s}^{2} $"
      ],
      "text/plain": [
       "1.37(43) m/s²"
      ]
     },
     "execution_count": 76,
     "metadata": {},
     "output_type": "execute_result"
    }
   ],
   "source": [
    "uc.gummy.printer = 'latex'\n",
    "acceleration"
   ]
  },
  {
   "cell_type": "markdown",
   "metadata": {},
   "source": [
    "or unicode:"
   ]
  },
  {
   "cell_type": "code",
   "execution_count": 77,
   "metadata": {},
   "outputs": [
    {
     "data": {
      "text/plain": [
       "1.37(43) m/s²"
      ]
     },
     "execution_count": 77,
     "metadata": {},
     "output_type": "execute_result"
    }
   ],
   "source": [
    "uc.gummy.printer = 'unicode'\n",
    "acceleration"
   ]
  },
  {
   "cell_type": "markdown",
   "metadata": {},
   "source": [
    "or output using only ASCII characters:"
   ]
  },
  {
   "cell_type": "code",
   "execution_count": 78,
   "metadata": {},
   "outputs": [
    {
     "data": {
      "text/plain": [
       "1.37(43) m/s**2"
      ]
     },
     "execution_count": 78,
     "metadata": {},
     "output_type": "execute_result"
    }
   ],
   "source": [
    "uc.gummy.printer = 'ascii'\n",
    "acceleration"
   ]
  },
  {
   "cell_type": "markdown",
   "metadata": {},
   "source": [
    "or back to HTML:"
   ]
  },
  {
   "cell_type": "code",
   "execution_count": 79,
   "metadata": {},
   "outputs": [
    {
     "data": {
      "text/html": [
       "<span>1.37(43)&nbsp;m/s<sup>2</sup></span>"
      ],
      "text/plain": [
       "1.37(43) m/s²"
      ]
     },
     "execution_count": 79,
     "metadata": {},
     "output_type": "execute_result"
    }
   ],
   "source": [
    "uc.gummy.printer = 'html'\n",
    "acceleration"
   ]
  },
  {
   "cell_type": "markdown",
   "metadata": {},
   "source": [
    "Uncertainty budgets and fits can also be rendered using LaTeX:"
   ]
  },
  {
   "cell_type": "code",
   "execution_count": 80,
   "metadata": {},
   "outputs": [
    {
     "data": {
      "text/latex": [
       "$\\displaystyle  \\begin{array}{ c c c c c c c c }\n",
       "\\text{Component} & \\text{Unit} & \\text{Value} & u\\,/\\,\\mathrm{\\%} & \\nu_{eff} & \\text{Type} & \\left\\lvert\\frac{\\partial y}{\\partial x} \\right\\rvert & s \\\\\n",
       "\\hline\n",
       "\\text{Side 2} & \\mathrm{mm} & 3.059 & 0.67 & 5 & \\text{A} & 8.1 & 0.54 \\\\\n",
       "\\text{Force} & \\mathrm{N} & 0.9346 & 0.59 & \\infty & \\text{B} & 26 & 0.42 \\\\\n",
       "\\text{Side 1} & \\mathrm{cm} & 1.2346 & 0.19 & \\infty & \\text{B} & 20 & 0.04 \\\\\n",
       "\\hline\n",
       "u_{c} \\text{ type A} & \\mathrm{kPa} &  & 0.67 & 5.0 & \\text{A} &  & 0.54 \\\\\n",
       "u_{c} \\text{ type B} & \\mathrm{kPa} &  & 0.62 & \\infty & \\text{B} &  & 0.46 \\\\\n",
       "\\hline\n",
       "P & \\mathrm{kPa} & 24.75 & 0.23 & 17.4 & \\text{} &  &  \\\\\n",
       "\\hline\n",
       "U_c \\text{ at } k = 2.1 & \\mathrm{kPa} &  & 1.9 &  & \\text{} &  &  \\\\\n",
       "\\end{array} $"
      ],
      "text/plain": [
       "<IPython.core.display.Math object>"
      ]
     },
     "metadata": {},
     "output_type": "display_data"
    }
   ],
   "source": [
    "budget = pressure.budget([side_1,side_2,force],uunit='%')\n",
    "budget.latex()"
   ]
  },
  {
   "cell_type": "code",
   "execution_count": 81,
   "metadata": {},
   "outputs": [
    {
     "data": {
      "text/plain": [
       "'\\\\begin{array}{ c c c c c c c c }\\n\\\\text{Component} & \\\\text{Unit} & \\\\text{Value} & u\\\\,/\\\\,\\\\mathrm{\\\\%} & \\\\nu_{eff} & \\\\text{Type} & \\\\left\\\\lvert\\\\frac{\\\\partial y}{\\\\partial x} \\\\right\\\\rvert & s \\\\\\\\\\n\\\\hline\\n\\\\text{Side 2} & \\\\mathrm{mm} & 3.059 & 0.67 & 5 & \\\\text{A} & 8.1 & 0.54 \\\\\\\\\\n\\\\text{Force} & \\\\mathrm{N} & 0.9346 & 0.59 & \\\\infty & \\\\text{B} & 26 & 0.42 \\\\\\\\\\n\\\\text{Side 1} & \\\\mathrm{cm} & 1.2346 & 0.19 & \\\\infty & \\\\text{B} & 20 & 0.04 \\\\\\\\\\n\\\\hline\\nu_{c} \\\\text{ type A} & \\\\mathrm{kPa} &  & 0.67 & 5.0 & \\\\text{A} &  & 0.54 \\\\\\\\\\nu_{c} \\\\text{ type B} & \\\\mathrm{kPa} &  & 0.62 & \\\\infty & \\\\text{B} &  & 0.46 \\\\\\\\\\n\\\\hline\\nP & \\\\mathrm{kPa} & 24.75 & 0.23 & 17.4 & \\\\text{} &  &  \\\\\\\\\\n\\\\hline\\nU_c \\\\text{ at } k = 2.1 & \\\\mathrm{kPa} &  & 1.9 &  & \\\\text{} &  &  \\\\\\\\\\n\\\\end{array}'"
      ]
     },
     "execution_count": 81,
     "metadata": {},
     "output_type": "execute_result"
    }
   ],
   "source": [
    "budget.tolatex()"
   ]
  },
  {
   "cell_type": "markdown",
   "metadata": {},
   "source": [
    "As can the ouput of the fit from the curve fitting section:"
   ]
  },
  {
   "cell_type": "code",
   "execution_count": 82,
   "metadata": {},
   "outputs": [
    {
     "data": {
      "text/latex": [
       "$\\displaystyle  y = p_{1} + p_{2} x + p_{3} x^{2} \\\\[10pt]\\text{best fit parameters:}\\\\\\begin{align}p_{1} &= 1.7(19)\\:\\mathrm{m}\\\\p_{2} &= -1.9(20)\\:\\mathrm{m}/\\mathrm{s}\\\\p_{3} &= 1.37(43)\\:\\mathrm{m}/\\mathrm{s}^{2}\\\\\\end{align}$"
      ],
      "text/plain": [
       "<IPython.core.display.Math object>"
      ]
     },
     "metadata": {},
     "output_type": "display_data"
    }
   ],
   "source": [
    "fit.latex()"
   ]
  },
  {
   "cell_type": "markdown",
   "metadata": {},
   "source": [
    "<footer id=\"attribution\" style=\"float:right; color:#999; background:#fff;\">\n",
    "&copy; Copyright 2025, National Research Council Canada\n",
    "</footer>"
   ]
  }
 ],
 "metadata": {
  "@webio": {
   "lastCommId": null,
   "lastKernelId": null
  },
  "kernelspec": {
   "display_name": "Python3 (nrsci)",
   "language": "python",
   "name": "python3"
  },
  "language_info": {
   "codemirror_mode": {
    "name": "ipython",
    "version": 3
   },
   "file_extension": ".py",
   "mimetype": "text/x-python",
   "name": "python",
   "nbconvert_exporter": "python",
   "pygments_lexer": "ipython3",
   "version": "3.12.10"
  },
  "toc": {
   "base_numbering": 1,
   "nav_menu": {},
   "number_sections": false,
   "sideBar": true,
   "skip_h1_title": true,
   "title_cell": "Table of Contents",
   "title_sidebar": "Contents",
   "toc_cell": false,
   "toc_position": {},
   "toc_section_display": true,
   "toc_window_display": false
  }
 },
 "nbformat": 4,
 "nbformat_minor": 4
}
